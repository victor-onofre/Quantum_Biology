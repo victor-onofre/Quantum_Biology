{
 "cells": [
  {
   "cell_type": "markdown",
   "metadata": {},
   "source": [
    "## **Singlet yield**"
   ]
  },
  {
   "cell_type": "code",
   "execution_count": 1,
   "metadata": {},
   "outputs": [],
   "source": [
    "import matplotlib.pyplot as plt\n",
    "import qutip as qt\n",
    "import numpy as np\n",
    "import time"
   ]
  },
  {
   "cell_type": "code",
   "execution_count": 2,
   "metadata": {},
   "outputs": [],
   "source": [
    "import cmath"
   ]
  },
  {
   "cell_type": "code",
   "execution_count": 3,
   "metadata": {},
   "outputs": [],
   "source": [
    "import matplotlib as mpl\n",
    "mpl.rcParams['figure.dpi'] = 120"
   ]
  },
  {
   "cell_type": "markdown",
   "metadata": {},
   "source": [
    "\\begin{equation}\n",
    "\\begin{aligned}\n",
    "& \\hbar = 6.582 \\times 10^{-16} ev \\cdot s = 1.054 \\times 10^{-34} J \\cdot s \\\\\n",
    "& \\gamma = \\frac{1}{2}\\mu_{B}g \\rightarrow  g = 2 \\rightarrow   \\gamma = \\mu_{B}\\\\\n",
    "& \\mu_{B} = \\frac{e \\hbar}{2 m_{e}} = 5.788 \\times 10^{-5} \\frac{ev}{T} = 5.788 \\times 10^{-11} \\frac{ev}{\\mu T} = 9.274 \\times 10^{-24} \\frac{J}{T}\\\\\n",
    "& \\frac{\\hbar}{\\mu_{0}} = 1.13718 \\times 10^{-5} \\mu T \\cdot s \\rightarrow Unidad.de.tiempo = U_{t} = 1.13718 \\times 10^{-5} s = 11.3718 \\mu s  \\\\\n",
    "& t = np.linspace(0.0,5.784,100000) = np.linspace(0.0*U_{t},5.784*U_{t},100000) = 0 s  \\rightarrow  6.582 \\times 10^{-5} s\n",
    "\\label{equation:unidades}\n",
    "\\end{aligned}\n",
    "\\end{equation}"
   ]
  },
  {
   "cell_type": "code",
   "execution_count": 4,
   "metadata": {},
   "outputs": [],
   "source": [
    "start_time = time.time()\n",
    "\n",
    "t = np.linspace(0.0,50.0,1000)"
   ]
  },
  {
   "cell_type": "markdown",
   "metadata": {},
   "source": [
    "\\begin{equation}\n",
    "\\begin{aligned}\n",
    "\\boldsymbol{B} = B_{0}(\\sin{\\theta}\\cos{\\phi}, \\sin{\\theta}\\sin{\\phi},\\cos{\\theta}) \\quad  \n",
    " B_{x} = B_{0}\\sin{\\theta}\\cos{\\phi} \\quad  \n",
    " B_{y} = B_{0}\\sin{\\theta}\\sin{\\phi} \\quad\n",
    " B_{z} = B_{0}\\cos{\\theta} \n",
    "\\end{aligned}\n",
    "\\label{equation:campo_magentico}\n",
    "\\end{equation}"
   ]
  },
  {
   "cell_type": "markdown",
   "metadata": {},
   "source": [
    "\\begin{equation}\n",
    "\\phi = \\varphi = 0 \\quad \\boldsymbol{B} = (B_{x},0,B_{z}) \\quad\n",
    "       B_{x} = B_{0}\\sin{\\theta}  = Bx1   \\quad B_{y} = 0 \\quad B_{z} = B_{0}\\cos{\\theta} = Bz1\n",
    "\\label{equation:campo_magentico_con_By_cero}\n",
    "\\end{equation}"
   ]
  },
  {
   "cell_type": "code",
   "execution_count": 5,
   "metadata": {},
   "outputs": [],
   "source": [
    "def Bx(B0,theta1):\n",
    "    Bx1     = B0*np.sin(theta1);\n",
    "    return Bx1\n",
    "\n",
    "def Bz(B0,theta1):\n",
    "    Bz1   = B0*np.cos(theta1);\n",
    "    return Bz1"
   ]
  },
  {
   "cell_type": "markdown",
   "metadata": {},
   "source": [
    "\\begin{equation}\n",
    "\\begin{aligned}\n",
    "H &= \\gamma \\boldsymbol{B} \\cdot (\\boldsymbol{S_{1}} + \\boldsymbol{S_{2}}) + \\boldsymbol{S_{1}} \\cdot \\boldsymbol{A} \\cdot I \\\\\n",
    "H & = \\gamma B_{x}(\\sigma_{x}^1 + \\sigma_{x}^2) + \\gamma B_{z}(\\sigma_{z}^1 + \\sigma_{z}^2) + A_{xx} I_{x} \\sigma_{x}^1 + A_{yy} I_{y} \\sigma_{y}^1 + A_{zz} I_{z} \\sigma_{z}^1\n",
    "\\end{aligned}\n",
    "\\label{equation:hamiltoniano_PR}\n",
    "\\end{equation}"
   ]
  },
  {
   "cell_type": "markdown",
   "metadata": {},
   "source": [
    "\\begin{equation}\n",
    "H_{(\\uparrow, \\downarrow)} = \n",
    "\\begin{bmatrix} \n",
    " 2\\gamma B_{z}+A_{z}I_{z}            & \\gamma B_{x} & \\gamma B_{x}+A_{x}I_{x}-iA_{y}I_{y}  &  0 \\cr\n",
    " \\gamma B_{x}                        & A_{z}I_{z}   &  0                                   &  \\gamma B_{x}+A_{x}I_{x}-iA_{y}I_{y} \\cr\n",
    "\\gamma B_{x}+A_{x}I_{x}+iA_{y}I_{y} & 0            &  -A_{z}I_{z}                         &  \\gamma B_{x} \\cr\n",
    " 0                                   & \\gamma B_{x}+A_{x}I_{x}+iA_{y}I_{y}                &  \\gamma B_{x}  &  -2\\gamma B_{z}-A_{z}I_{z} \\end{bmatrix}  \\qquad\n",
    "\\end{equation}"
   ]
  },
  {
   "cell_type": "markdown",
   "metadata": {},
   "source": [
    "## **1era Aproximacion**"
   ]
  },
  {
   "cell_type": "markdown",
   "metadata": {},
   "source": [
    "Donde $A_{z}I_{x} = A_{z}/\\gamma \\rightarrow \\uparrow$,  $\\qquad$ $A_{z}I_{x}= - A_{z}/\\gamma \\rightarrow \\downarrow$  $\\qquad$ $A_{x}=A_{y}=0$"
   ]
  },
  {
   "cell_type": "markdown",
   "metadata": {},
   "source": [
    "\\begin{equation}\n",
    "       H_{\\uparrow} = \n",
    "       \\begin{bmatrix} \n",
    "       2\\gamma B_{z}+A_{z}/\\gamma   & \\gamma B_{x} & \\gamma B_{x}  &  0 \\cr\n",
    "        \\gamma B_{x}               & A_{z}/\\gamma   &  0  &  \\gamma B_{x} \\cr\n",
    "        \\gamma B_{x}               & 0            &  -A_{z}/\\gamma  &  \\gamma B_{x} \\cr\n",
    "        0                          & \\gamma B_{x} &  \\gamma B_{x}  &  -2\\gamma B_{z}-A_{z}/\\gamma \\end{bmatrix}  \\qquad\n",
    "      H_{\\downarrow} = \n",
    "   \\begin{bmatrix} \n",
    "    2\\gamma B_{z}-A_{z}/\\gamma   & \\gamma B_{x} & \\gamma B_{x}  &  0 \\cr\n",
    "     \\gamma B_{x}               & -A_{z}/\\gamma   &  0  &  \\gamma B_{x} \\cr\n",
    "     \\gamma B_{x}               & 0            &  A_{z}/\\gamma  &  \\gamma B_{x} \\cr\n",
    "     0                          & \\gamma B_{x} &  \\gamma B_{x}  &  -2\\gamma B_{z}+A_{z}/\\gamma \\end{bmatrix}\n",
    "\\end{equation}\n",
    "\n",
    "\\begin{equation}\n",
    "      H = \n",
    "      \\begin{bmatrix}  \n",
    "       H_{\\uparrow} & 0              &  0  &  0 \\cr\n",
    "       0            & H_{\\downarrow} &  0  &  0 \\cr\n",
    "       0            & 0              &  0  &  0 \\cr\n",
    "       0            & 0            &  0  &  0 \\end{bmatrix} \\qquad\n",
    "\\end{equation}"
   ]
  },
  {
   "cell_type": "markdown",
   "metadata": {},
   "source": [
    "# Base de Singlete-Tripletes"
   ]
  },
  {
   "cell_type": "markdown",
   "metadata": {},
   "source": [
    "\\begin{equation}\n",
    "       H_{\\uparrow} = \n",
    "       \\begin{bmatrix} \n",
    "         0             &  A_{z}/\\gamma        & 0                           &  0                     \\cr\n",
    "        A_{z}/\\gamma   &  0                   & \\sqrt{2}\\gamma B_{x}        &  \\sqrt{2}\\gamma B_{x}  \\cr\n",
    "        0              & \\sqrt{2}\\gamma B_{x} &  -2\\gamma B_{z}-A_{z}/\\gamma &  0                     \\cr\n",
    "        0              & \\sqrt{2}\\gamma B_{x} &  0                          &  2\\gamma B_{z}+ A_{z}/\\gamma \\end{bmatrix}  \\qquad\n",
    "         H_{\\downarrow} = \n",
    "       \\begin{bmatrix} \n",
    "         0             &  -A_{z}/\\gamma        & 0                           &  0                     \\cr\n",
    "        -A_{z}/\\gamma   &  0                   & \\sqrt{2}\\gamma B_{x}        &  \\sqrt{2}\\gamma B_{x}  \\cr\n",
    "        0              & \\sqrt{2}\\gamma B_{x} &  -2\\gamma B_{z}+A_{z}/\\gamma &  0                     \\cr\n",
    "        0              & \\sqrt{2}\\gamma B_{x} &  0                          &  2\\gamma B_{z}- A_{z}/\\gamma \\end{bmatrix}\n",
    "\\end{equation}\n"
   ]
  },
  {
   "cell_type": "code",
   "execution_count": 6,
   "metadata": {},
   "outputs": [],
   "source": [
    "def H_ST(gamma, Az, B0 , theta1):\n",
    "    Bxx = Bx(B0,theta1)\n",
    "    Bzz = Bz(B0,theta1)\n",
    "    H = qt.Qobj(np.matrix([[0 ,Az                    , 0                     , 0                   , 0 , 0                    , 0                     , 0                   ,0, 0]\n",
    "                          ,[Az, 0                    , np.sqrt(2)*gamma*Bxx  , np.sqrt(2)*gamma*Bxx, 0 , 0                    , 0                     , 0                   ,0, 0]\n",
    "                          ,[0 , np.sqrt(2)*gamma*Bxx , -2*gamma*Bzz - Az     , 0                   , 0 , 0                    , 0                     , 0                   ,0, 0] \n",
    "                          ,[0 , np.sqrt(2)*gamma*Bxx , 0                     , 2*gamma*Bzz + Az    , 0 , 0                    , 0                     , 0                   ,0, 0]\n",
    "                          ,[0 , 0                    , 0                     , 0                   , 0 , -Az                   , 0                     , 0                   ,0, 0] \n",
    "                          ,[0 , 0                    , 0                     , 0                   ,-Az , 0                    , np.sqrt(2)*gamma*Bxx  , np.sqrt(2)*gamma*Bxx,0, 0] \n",
    "                          ,[0 , 0                    , 0                     , 0                   , 0 , np.sqrt(2)*gamma*Bxx , -2*gamma*Bzz + Az     , 0                   ,0, 0] \n",
    "                          ,[0 , 0                    , 0                     , 0                   , 0 , np.sqrt(2)*gamma*Bxx , 0                     , 2*gamma*Bzz - Az    ,0, 0]\n",
    "                          ,[0 , 0                    , 0                     , 0                   , 0 , 0                    , 0                     , 0                   ,0, 0] \n",
    "                          ,[0 , 0                    , 0                     , 0                   , 0 , 0                    , 0                     , 0                   ,0, 0]]))\n",
    "    return H"
   ]
  },
  {
   "cell_type": "code",
   "execution_count": 7,
   "metadata": {},
   "outputs": [],
   "source": [
    "def H(gamma, Az, B0 , theta1):\n",
    "    Bxx = Bx(B0,theta1)\n",
    "    Bzz = Bz(B0,theta1)\n",
    "    H = qt.Qobj(np.matrix([[2*gamma*Bzz+Az      , gamma*Bxx  , gamma*Bxx    , 0                      , 0                     , 0         , 0          , 0                       ,0, 0]\n",
    "                      ,[gamma*Bxx               , Az         , 0            , gamma*Bxx              , 0                     , 0         , 0          , 0                       ,0, 0]\n",
    "                      ,[gamma*Bxx               , 0          , -Az          , gamma*Bxx              , 0                     , 0         , 0          , 0                       ,0, 0] \n",
    "                      ,[0                       , gamma*Bxx  , gamma*Bxx    , -2*gamma*Bzz - Az      , 0                     , 0         , 0          , 0                       ,0, 0]\n",
    "                      ,[0                       , 0          , 0            , 0                      , 2*gamma*Bzz - Az      , gamma*Bxx , gamma*Bxx  , 0                       ,0, 0] \n",
    "                      ,[0                       , 0          , 0            , 0                      , gamma*Bxx             , -Az       , 0          , gamma*Bxx               ,0, 0] \n",
    "                      ,[0                       , 0          , 0            , 0                      , gamma*Bxx             , 0         , Az         , gamma*Bxx               ,0, 0] \n",
    "                      ,[0                       , 0          , 0            , 0                      , 0                     , gamma*Bxx , gamma*Bxx  , -2*gamma*Bzz + Az       ,0, 0]\n",
    "                      ,[0                       , 0          , 0            , 0                      , 0                     , 0         , 0          , 0                       ,0, 0] \n",
    "                      ,[0                       , 0          , 0            , 0                      , 0                     , 0         , 0          , 0                       ,0, 0]]))\n",
    "    return H"
   ]
  },
  {
   "cell_type": "markdown",
   "metadata": {},
   "source": [
    "\\begin{equation}\n",
    "  \\begin{aligned}\n",
    "  | \\uparrow \\uparrow,\\uparrow> &= |1>     \\quad |\\uparrow \\uparrow,\\downarrow> = |5> \\\\  \n",
    "  | \\uparrow \\downarrow, \\uparrow > &= |2> \\quad |\\uparrow \\downarrow,\\downarrow>=|6> \\\\  \n",
    "  | \\downarrow \\uparrow, \\uparrow> &= |3>   \\quad |\\downarrow \\uparrow,\\downarrow>= |7> \\\\  \n",
    "  | \\downarrow \\downarrow, \\uparrow> &= |4> \\quad  |\\downarrow \\downarrow, \\downarrow> = |8> \\\\\n",
    "  | S> &= | 9 >  \\quad | T >= |10>\n",
    "  \\end{aligned}\n",
    "  \\label{equation:base_para_hamiltoniano}\n",
    "\\end{equation}"
   ]
  },
  {
   "cell_type": "code",
   "execution_count": 8,
   "metadata": {},
   "outputs": [],
   "source": [
    "uno    = qt.basis(10,0);  cinco  = qt.basis(10,4);\n",
    "dos    = qt.basis(10,1);  seis   = qt.basis(10,5);\n",
    "tres   = qt.basis(10,2);  siete  = qt.basis(10,6);\n",
    "cuatro = qt.basis(10,3);  ocho   = qt.basis(10,7);\n",
    "nueve  = qt.basis(10,8);  diez   = qt.basis(10,9);"
   ]
  },
  {
   "cell_type": "markdown",
   "metadata": {},
   "source": [
    "\n",
    "\\begin{equation}\n",
    "  \\begin{aligned}\n",
    "  | s,\\uparrow >  &=\\frac{1}{\\sqrt{2}} \\Big(| 2> -| 3> \\Big)         \\quad | s,\\downarrow>  =\\frac{1}{\\sqrt{2}}\\Big( | 6 >- |7>\\Big) \\\\  \n",
    "  | t_{0}, \\uparrow>  &= \\frac{1}{\\sqrt{2}}\\Big(| 2> +| 3> \\Big)  \\quad  | t_{0}, \\downarrow>  = \\frac{1}{\\sqrt{2}}\\Big(| 6 >+ | 7 >\\Big) \\\\\n",
    "  | t_{+}, \\uparrow>  &= | 1 >  \\qquad | t_{+},\\downarrow >=| 5 > \\\\  \n",
    "  | t_{-}, \\uparrow>  &= | 4 >  \\qquad | t{-},\\downarrow>= | 8 > \n",
    "  \\end{aligned}\n",
    "  \\label{equation:singlete_y_triplete_base_hamiltoniano}\n",
    "\\end{equation}"
   ]
  },
  {
   "cell_type": "code",
   "execution_count": 9,
   "metadata": {},
   "outputs": [],
   "source": [
    "#s_Up        = (1/np.sqrt(2))*(dos - tres);   s_Down      = (1/np.sqrt(2))*(seis - siete);\n",
    "#tcero_Up    = (1/np.sqrt(2))*(dos + tres);   tcero_Down  = (1/np.sqrt(2))*(seis + siete);\n",
    "#tmas_Up     = uno;                           tmas_Down   = cinco;\n",
    "#tmenos_Up   = cuatro;                        tmenos_Down = ocho;\n",
    "\n",
    "#S           = nueve;                         T           = diez;\n",
    "#S_operador = S*(S.dag());"
   ]
  },
  {
   "cell_type": "code",
   "execution_count": 10,
   "metadata": {},
   "outputs": [],
   "source": [
    "s_Up        = uno;    s_Down      = cinco;\n",
    "tcero_Up    = dos;    tcero_Down  = seis;\n",
    "tmas_Up     = tres;   tmas_Down   = siete;\n",
    "tmenos_Up   = cuatro; tmenos_Down = ocho;\n",
    "\n",
    "S  = nueve;  T  = diez;\n",
    "S_operador = S*(S.dag());"
   ]
  },
  {
   "cell_type": "markdown",
   "metadata": {},
   "source": [
    "Estado inicial"
   ]
  },
  {
   "cell_type": "markdown",
   "metadata": {},
   "source": [
    "$\\rho_{0} = \\frac{1}{2} \\Big( | s,\\uparrow > < s,\\uparrow | + |s,\\downarrow > <s,\\downarrow| \\Big) $"
   ]
  },
  {
   "cell_type": "code",
   "execution_count": 11,
   "metadata": {},
   "outputs": [],
   "source": [
    "rho0 = s_Up*(s_Up.dag()) # (s_Down*(s_Down.dag()) + s_Up*(s_Up.dag()))*(1/2)"
   ]
  },
  {
   "cell_type": "code",
   "execution_count": null,
   "metadata": {},
   "outputs": [],
   "source": []
  },
  {
   "cell_type": "markdown",
   "metadata": {},
   "source": [
    "\\begin{equation}\n",
    "  \\begin{aligned}\n",
    "   P_{1} = P_{S,\\uparrow} & = | S > < s,\\uparrow| , \\qquad     P_{2} = P_{S,\\downarrow}  = | S > <s,\\downarrow| \\\\\n",
    "   P_{3} = P_{T_{+},\\uparrow} & = | T>  < t_{+},\\uparrow| , \\quad P_{4} = P_{T_{+},\\downarrow}  = | T> <s,\\downarrow| \\\\\n",
    "   P_{5} = P_{T_{-},\\uparrow} & = | T>  < t_{-},\\uparrow| , \\quad P_{6} =P_{T_{-},\\downarrow}  = | T > <t_{-},\\downarrow|\\\\\n",
    "   P_{7} = P_{T_{0},\\uparrow} & = | T>  < t_{0},\\uparrow| , \\quad P_{8} = P_{T_{0},\\downarrow}  = | T > <t_{0},\\downarrow|\n",
    "   \\end{aligned}\n",
    "   \\label{equation:operadores_linbandianos}\n",
    "\\end{equation}"
   ]
  },
  {
   "cell_type": "code",
   "execution_count": 12,
   "metadata": {},
   "outputs": [],
   "source": [
    "P1 = S*(s_Up.dag());      P2 = S*(s_Down.dag());\n",
    "P3 = T*(tmas_Up.dag());   P4 = T*(tmas_Down.dag());\n",
    "P5 = T*(tmenos_Up.dag()); P6 = T*(tmenos_Down.dag());\n",
    "P7 = T*(tcero_Up.dag());  P8 = T*(tcero_Down.dag());\n",
    "\n",
    "sx = qt.sigmax() \n",
    "sy = qt.sigmay()\n",
    "sz = qt.sigmaz()"
   ]
  },
  {
   "cell_type": "code",
   "execution_count": 13,
   "metadata": {},
   "outputs": [],
   "source": [
    "ro1 = []; ro2 = []; ro3 = [];\n",
    "ro4 = []; ro5 = []; ro6 = [];\n",
    "\n",
    "exp_S = []; traza = [];\n",
    "\n",
    "prob_S1 = []; prob_S2 = []; prob_S3 = [];\n",
    "prob_S4 = []; prob_S5 = []; prob_S6 = [];"
   ]
  },
  {
   "cell_type": "markdown",
   "metadata": {},
   "source": [
    "\\begin{equation}\n",
    "\\begin{aligned}\n",
    "& Unidad.de.tiempo = U_{t} = 6.582 \\times 10^{-13} s \\quad k_{1} = 10^{6} s^{-1} \\quad k_{2} = 10^{6} s^{-1}  \\\\\n",
    "& k_{1} =\\frac{ k_{1}'}{U_{t}} \\rightarrow  k_{1}' =  k_{1} U_{t} =  6.582 \\times 10^{-7} = jj1 \\\\\n",
    "& k_{2} =\\frac{ k_{2}'}{U_{t}} \\rightarrow  k_{2}' =  k_{2} U_{t} =  6.582 \\times 10^{-8} = jj2\n",
    "\\label{equation:unidades}\n",
    "\\end{aligned}\n",
    "\\end{equation}"
   ]
  },
  {
   "cell_type": "code",
   "execution_count": 14,
   "metadata": {},
   "outputs": [],
   "source": [
    "jj1 = 11.365\n",
    "jj2 = 1.1365\n",
    "jj3 = 0.11365"
   ]
  },
  {
   "cell_type": "markdown",
   "metadata": {},
   "source": [
    "\\begin{equation}\n",
    "   \\begin{aligned}\n",
    "   & \\gamma = \\frac{1}{2}\\mu_{B}g \\rightarrow  g = 2 \\rightarrow   \\gamma = \\mu_{B}\\\\\n",
    "  & \\mu_{B} = \\frac{e \\hbar}{2 m_{e}} = 5.788 \\times 10^{-5} \\frac{ev}{T} = 5.788 \\times 10^{-11} \\frac{ev}{\\mu T} = 9.274 \\times 10^{-24} \\frac{J}{T}\\\\\n",
    "   &  B_{0} =  47 \\mu T  = B02 \\\\\n",
    "   &  B_{rf} =  0.15 \\mu T  = Brf2 \\\\\n",
    "   & A_{z} = 10^{-5} mev = 10^{-8} ev \\\\\n",
    "   & \\frac{A_{z} }{\\mu_{B}} = 172.77 \\mu T\n",
    "   \\label{equation:unidades}\n",
    "   \\end{aligned}\n",
    "\\end{equation}"
   ]
  },
  {
   "cell_type": "code",
   "execution_count": 15,
   "metadata": {},
   "outputs": [],
   "source": [
    "gamma2 = 1.0\n",
    "B02    = 47.0\n",
    "Az2    = 172.77\n",
    "Brf2   = 0.0 #15\n",
    "\n",
    "\n",
    "numGuardar = 999 #999  100000"
   ]
  },
  {
   "cell_type": "code",
   "execution_count": 16,
   "metadata": {},
   "outputs": [],
   "source": [
    "anglelist = np.linspace(0,1.7,100)"
   ]
  },
  {
   "cell_type": "code",
   "execution_count": 17,
   "metadata": {},
   "outputs": [],
   "source": [
    "options = qt.Options(nsteps=10000, rtol=1e-7 ) #options = qt.Options(method = 'bdf', order = 5, nsteps=10000, tidy = True , rtol=1e-8 ) #, order= 5 , method = 'bdf'"
   ]
  },
  {
   "cell_type": "markdown",
   "metadata": {},
   "source": [
    "## **1era Aproximacion**"
   ]
  },
  {
   "cell_type": "code",
   "execution_count": 18,
   "metadata": {},
   "outputs": [],
   "source": [
    "k3 = np.sqrt(jj3)\n",
    "c_ops1 = [k3*P1,k3*P2,k3*P3,k3*P4,k3*P5,k3*P6,k3*P7,k3*P8]   \n",
    "\n",
    "for theta1 in anglelist:\n",
    "        H0= H_ST(gamma2,Az2,B02,theta1) #H (gamma, Az, B0 , theta1)   H1= H1t(gamma2,Brf2,theta1-(np.pi/2))   #Ht (gamma, Brf, theta2) Ham = [H0,[H1,H1_coeff]]\n",
    "        output3 = qt.mesolve(H0, rho0, t, c_ops1, options = options)\n",
    "        ro3.append(output3.states)"
   ]
  },
  {
   "cell_type": "code",
   "execution_count": 19,
   "metadata": {
    "jupyter": {
     "source_hidden": true
    }
   },
   "outputs": [],
   "source": [
    "#k3 = np.sqrt(jj3)\n",
    "#c_ops1 = [k3*P1,k3*P2,k3*P3,k3*P4,k3*P5,k3*P6,k3*P7,k3*P8]   \n",
    "\n",
    "#for theta1 in anglelist:\n",
    " #       H0= H_ST(gamma2,Az2,B02,theta1)\n",
    "  #      ro3.append(qt.steadystate(H0, c_ops1,method='iterative-gmres', use_rcm=True ,tol=1e-7) )"
   ]
  },
  {
   "cell_type": "code",
   "execution_count": 20,
   "metadata": {},
   "outputs": [],
   "source": [
    "for i in range(0,len(anglelist)):\n",
    "      prob_S3.append((ro3[i][numGuardar]*(S_operador)).tr())"
   ]
  },
  {
   "cell_type": "code",
   "execution_count": 21,
   "metadata": {},
   "outputs": [],
   "source": [
    "prob = np.array(prob_S3)"
   ]
  },
  {
   "cell_type": "code",
   "execution_count": 22,
   "metadata": {},
   "outputs": [
    {
     "data": {
      "image/png": "[encoded data removed]",
      "text/plain": [
       "<Figure size 720x480 with 1 Axes>"
      ]
     },
     "metadata": {
      "needs_background": "light"
     },
     "output_type": "display_data"
    }
   ],
   "source": [
    "plt.plot(anglelist, prob.real , label='k= $10^4$ $s^{-1}$', linewidth=3.5)\n",
    "\n",
    "plt.title(r'Rendimiento de Singlete Vs Angulo de $\\vec{B}$', fontsize = 16 )\n",
    "plt.grid()\n",
    "plt.xlabel(r'Angulo ($\\theta$)', fontsize = 14)\n",
    "plt.ylabel(r'Rendimiento de Singlete( $\\Phi (\\theta) )$', fontsize = 14)\n",
    "plt.legend()\n",
    "plt.tight_layout()\n",
    "\n",
    "plt.yticks(fontsize = 14)\n",
    "plt.xticks([0.0, np.pi/8, np.pi/4, 3*np.pi/8, np.pi/2],\n",
    "           [r'$0$', r'$\\pi/8$', r'$\\pi/4$', r'$3\\pi/8$', r'$\\pi/2$' ], fontsize = 14)\n",
    "\n",
    "\n",
    "plt.savefig('Base_ST_Nu_uni_aprox1_singlet_yield_Skew.png', dpi=500)\n",
    "plt.show()"
   ]
  },
  {
   "cell_type": "code",
   "execution_count": null,
   "metadata": {},
   "outputs": [],
   "source": []
  },
  {
   "cell_type": "code",
   "execution_count": 23,
   "metadata": {
    "jupyter": {
     "source_hidden": true
    }
   },
   "outputs": [],
   "source": [
    "sigmaX_up = qt.Qobj(np.matrix([[0 , 0  , 1 , 0 , 0 , 0 , 0 , 0 ,0, 0]\n",
    "                             ,[0  , 0  , 0 , 1 , 0 , 0 , 0 , 0 ,0, 0]\n",
    "                             ,[1  , 0  , 0 , 0 , 0 , 0 , 0 , 0 ,0, 0] \n",
    "                             ,[0  , 1  , 0 , 0 , 0 , 0 , 0 , 0 ,0, 0]\n",
    "                             ,[0  , 0  , 0 , 0 , 0 , 0 , 0 , 0 ,0, 0] \n",
    "                             ,[0  , 0  , 0 , 0 , 0 , 0 , 0 , 0 ,0, 0] \n",
    "                             ,[0  , 0  , 0 , 0 , 0 , 0 , 0 , 0 ,0, 0] \n",
    "                             ,[0  , 0  , 0 , 0 , 0 , 0 , 0 , 0 ,0, 0]\n",
    "                             ,[0  , 0  , 0 , 0 , 0 , 0 , 0 , 0 ,0, 0] \n",
    "                             ,[0  , 0  , 0 , 0 , 0 , 0 , 0 , 0 ,0, 0]]))\n",
    "\n",
    "sigmaY_up = qt.Qobj(np.matrix([[0  , 0  , -1j , 0   , 0 , 0 , 0 , 0 ,0, 0]\n",
    "                              ,[0  , 0  , 0   , -1j , 0 , 0 , 0 , 0 ,0, 0]\n",
    "                              ,[1j , 0  , 0   , 0   , 0 , 0 , 0 , 0 ,0, 0] \n",
    "                              ,[0  , 1j , 0   , 0   , 0 , 0 , 0 , 0 ,0, 0]\n",
    "                              ,[0  , 0  , 0   , 0   , 0 , 0 , 0 , 0 ,0, 0] \n",
    "                              ,[0  , 0  , 0   , 0   , 0 , 0 , 0 , 0 ,0, 0] \n",
    "                              ,[0  , 0  , 0   , 0   , 0 , 0 , 0 , 0 ,0, 0] \n",
    "                              ,[0  , 0  , 0   , 0   , 0 , 0 , 0 , 0 ,0, 0]\n",
    "                              ,[0  , 0  , 0   , 0   , 0 , 0 , 0 , 0 ,0, 0] \n",
    "                              ,[0  , 0  , 0   , 0   , 0 , 0 , 0 , 0 ,0, 0]]))\n",
    "\n",
    "sigmaZ_up = qt.Qobj(np.matrix([[1  , 0  , 0    , 0   , 0 , 0 , 0 , 0 ,0, 0]\n",
    "                              ,[0  , 1  , 0    , 0   , 0 , 0 , 0 , 0 ,0, 0]\n",
    "                              ,[0  , 0  , -1   , 0   , 0 , 0 , 0 , 0 ,0, 0] \n",
    "                              ,[0  , 0  , 0    , -1  , 0 , 0 , 0 , 0 ,0, 0]\n",
    "                              ,[0  , 0  , 0    , 0   , 0 , 0 , 0 , 0 ,0, 0] \n",
    "                              ,[0  , 0  , 0    , 0   , 0 , 0 , 0 , 0 ,0, 0] \n",
    "                              ,[0  , 0  , 0    , 0   , 0 , 0 , 0 , 0 ,0, 0] \n",
    "                              ,[0  , 0  , 0    , 0   , 0 , 0 , 0 , 0 ,0, 0]\n",
    "                              ,[0  , 0  , 0    , 0   , 0 , 0 , 0 , 0 ,0, 0] \n",
    "                              ,[0  , 0  , 0    , 0   , 0 , 0 , 0 , 0 ,0, 0]]))\n",
    "\n",
    "sigmaX_down = qt.Qobj(np.matrix([[0 , 0  , 0 , 0 , 0 , 0 , 0 , 0 ,0, 0]\n",
    "                              ,[0  , 0  , 0 , 0 , 0 , 0 , 0 , 0 ,0, 0]\n",
    "                              ,[0  , 0  , 0 , 0 , 0 , 0 , 0 , 0 ,0, 0] \n",
    "                              ,[0  , 0  , 0 , 0 , 0 , 0 , 0 , 0 ,0, 0]\n",
    "                              ,[0  , 0  , 0 , 0 , 0 , 0 , 1 , 0 ,0, 0] \n",
    "                              ,[0  , 0  , 0 , 0 , 0 , 0 , 0 , 1 ,0, 0] \n",
    "                              ,[0  , 0  , 0 , 0 , 1 , 0 , 0 , 0 ,0, 0] \n",
    "                              ,[0  , 0  , 0 , 0 , 0 , 1 , 0 , 0 ,0, 0]\n",
    "                              ,[0  , 0  , 0 , 0 , 0 , 0 , 0 , 0 ,0, 0] \n",
    "                              ,[0  , 0  , 0 , 0 , 0 , 0 , 0 , 0 ,0, 0]]))\n",
    "\n",
    "sigmaY_down = qt.Qobj(np.matrix([[0 , 0  ,0    , 0   , 0  , 0  , 0   , 0 ,0, 0]\n",
    "                               ,[0  , 0  , 0   , 0   , 0  , 0  , 0   , 0 ,0, 0]\n",
    "                               ,[0  , 0  , 0   , 0   , 0  , 0  , 0   , 0 ,0, 0] \n",
    "                               ,[0  , 0  , 0   , 0   , 0  , 0  , 0   , 0 ,0, 0]\n",
    "                               ,[0  , 0  , 0   , 0   , 0  , 0  , -1j , 0 ,0, 0] \n",
    "                               ,[0  , 0  , 0   , 0   , 0  , 0  , 0   , -1j ,0, 0] \n",
    "                               ,[0  , 0  , 0   , 0   , 1j , 0  , 0   , 0 ,0, 0] \n",
    "                               ,[0  , 0  , 0   , 0   , 0  , 1j , 0   , 0 ,0, 0]\n",
    "                               ,[0  , 0  , 0   , 0   , 0  , 0  , 0   , 0 ,0, 0] \n",
    "                               ,[0  , 0  , 0   , 0   , 0  , 0  , 0   , 0 ,0, 0]]))\n",
    "\n",
    "sigmaZ_down = qt.Qobj(np.matrix([[0  , 0  , 0    , 0   , 0 , 0 , 0 , 0 ,0, 0]\n",
    "                              ,[0  , 0  , 0    , 0   , 0 , 0 , 0 , 0 ,0, 0]\n",
    "                              ,[0  , 0  , 0   , 0   , 0 , 0 , 0 , 0 ,0, 0] \n",
    "                              ,[0  , 0  , 0    , 0  , 0 , 0 , 0 , 0 ,0, 0]\n",
    "                              ,[0  , 0  , 0    , 0   , 1 , 0 , 0 , 0 ,0, 0] \n",
    "                              ,[0  , 0  , 0    , 0   , 0 , 1 , 0 , 0 ,0, 0] \n",
    "                              ,[0  , 0  , 0    , 0   , 0 , 0 , -1 , 0 ,0, 0] \n",
    "                              ,[0  , 0  , 0    , 0   , 0 , 0 , 0 , -1 ,0, 0]\n",
    "                              ,[0  , 0  , 0    , 0   , 0 , 0 , 0 , 0 ,0, 0] \n",
    "                              ,[0  , 0  , 0    , 0   , 0 , 0 , 0 , 0 ,0, 0]]))"
   ]
  },
  {
   "cell_type": "code",
   "execution_count": null,
   "metadata": {},
   "outputs": [],
   "source": []
  },
  {
   "cell_type": "code",
   "execution_count": 24,
   "metadata": {},
   "outputs": [],
   "source": [
    "def CalcularSkewUp(anglelist,ro,numGuardar1):\n",
    "        Skew = []\n",
    "        for ii in range(0,len(anglelist)):\n",
    "                evals11, ekets11 =ro[ii][numGuardar1].eigenstates()#evals11, ekets11 =ro[ii][numGuardar].eigenstates()\n",
    "                sigmaX_Up_base_rho = (sigmaX_up.transform(ekets11))\n",
    "                sigmaY_Up_base_rho = (sigmaY_up.transform(ekets11))\n",
    "                sigmaZ_Up_base_rho = (sigmaZ_up.transform(ekets11))\n",
    "                roDiagonal = (ro[ii][numGuardar1].transform(ekets11))#roDiagonal = (ro[ii][numGuardar].transform(ekets11))\n",
    "                roDiagonalRaiz = qt.Qobj(np.sqrt(roDiagonal))\n",
    "                g = []\n",
    "                SigmasBaseRho = [sigmaX_Up_base_rho, sigmaY_Up_base_rho, sigmaZ_Up_base_rho]\n",
    "                for i in range(0,3):\n",
    "                    for j in range(0,3):  \n",
    "                        A = roDiagonalRaiz*SigmasBaseRho[i]\n",
    "                        B = roDiagonalRaiz*SigmasBaseRho[j]\n",
    "                        AB = A*B \n",
    "                        g.append( AB.tr() )  \n",
    "                Matriz_W_A1 = qt.Qobj(np.matrix([[g[0]  , g[1]  , g[2] ]\n",
    "                                                ,[g[3]  , g[4]  , g[5] ]\n",
    "                                                ,[g[6]  , g[7]  , g[8] ]]))\n",
    "                evals1, ekets1 =Matriz_W_A1.eigenstates()\n",
    "                Skew.append(1-np.amax(evals1))\n",
    "        return Skew\n",
    "#Agrege dos ceros"
   ]
  },
  {
   "cell_type": "code",
   "execution_count": 25,
   "metadata": {},
   "outputs": [],
   "source": [
    "def CalcularSkewDown(anglelist,ro,numGuardar1):\n",
    "        Skew= []\n",
    "        for ii in range(0,len(anglelist)):\n",
    "                evals11, ekets11 =ro[ii][numGuardar1].eigenstates()\n",
    "                sigmaX_Down_base_rho = (sigmaX_down.transform(ekets11))\n",
    "                sigmaY_Down_base_rho = (sigmaY_down.transform(ekets11))\n",
    "                sigmaZ_Down_base_rho = (sigmaZ_down.transform(ekets11))\n",
    "                roDiagonal = (ro[ii][numGuardar1].transform(ekets11))\n",
    "                roDiagonalRaiz = qt.Qobj(np.sqrt(roDiagonal))\n",
    "                g = []\n",
    "                SigmasBaseRho = [sigmaX_Down_base_rho, sigmaY_Down_base_rho, sigmaZ_Down_base_rho]\n",
    "                for i in range(0,3):\n",
    "                    for j in range(0,3):  \n",
    "                        A = roDiagonalRaiz*SigmasBaseRho[i]\n",
    "                        B = roDiagonalRaiz*SigmasBaseRho[j]\n",
    "                        AB = A*B \n",
    "                        g.append( AB.tr() ) \n",
    "                Matriz_W_A1 = qt.Qobj(np.matrix([[g[0]  , g[1]  , g[2] ]\n",
    "                                                ,[g[3]  , g[4]  , g[5] ]\n",
    "                                                ,[g[6]  , g[7]  , g[8] ]]))\n",
    "                evals1, ekets1 =Matriz_W_A1.eigenstates()\n",
    "                Skew.append(1 - np.amax(evals1))\n",
    "        return Skew"
   ]
  },
  {
   "cell_type": "code",
   "execution_count": 26,
   "metadata": {
    "jupyter": {
     "source_hidden": true
    }
   },
   "outputs": [],
   "source": [
    "#def CalcularSkew_Up_Down(anglelist,ro):\n",
    " #       Fisher= []\n",
    "  #      for ii in range(0,len(anglelist)):\n",
    "   #             evals11, ekets11 =ro[ii].eigenstates()\n",
    "    #            sigmaX_up_base_rho = (sigmaX_up.transform(ekets11))\n",
    "     #           sigmaY_up_base_rho = (sigmaY_up.transform(ekets11))\n",
    "      #          sigmaZ_up_base_rho = (sigmaZ_up.transform(ekets11))\n",
    "       #         sigmaX_down_base_rho = (sigmaX_down.transform(ekets11))\n",
    "        #        sigmaY_down_base_rho = (sigmaY_down.transform(ekets11))\n",
    "         #       sigmaZ_down_base_rho = (sigmaZ_down.transform(ekets11))\n",
    "          #      g = []\n",
    "           #     SigmasBaseRho = [sigmaX_up_base_rho, sigmaY_up_base_rho, sigmaZ_up_base_rho, sigmaX_down_base_rho, sigmaY_down_base_rho, sigmaZ_down_base_rho]\n",
    "            #    roDiagonalRaiz = qt.Qobj(np.matrix([[cmath.sqrt(evals11[0]), 0                    , 0                    , 0                    , 0                    , 0                    , 0                    , 0                    ,0                     , 0]\n",
    "             #                                 ,[0                     ,cmath.sqrt(evals11[1]), 0                    , 0                    , 0                    , 0                    , 0                    , 0                    ,0                     , 0]\n",
    "              #                                ,[0                     , 0                    ,cmath.sqrt(evals11[2]), 0                    , 0                    , 0                    , 0                    , 0                    ,0                     , 0] \n",
    "               #                               ,[0                     , 0                    , 0                    ,cmath.sqrt(evals11[3]), 0                    , 0                    , 0                    , 0                    ,0                     , 0]\n",
    "                #                              ,[0                     , 0                    , 0                    , 0                    ,cmath.sqrt(evals11[4]), 0                    , 0                    , 0                    ,0                     , 0] \n",
    "                 #                             ,[0                     , 0                    , 0                    , 0                    , 0                    ,cmath.sqrt(evals11[5]), 0                    , 0                    ,0                     , 0] \n",
    "                  #                            ,[0                     , 0                    , 0                    , 0                    , 0                    , 0                    ,cmath.sqrt(evals11[6]), 0                    ,0                     , 0] \n",
    "                   #                           ,[0                     , 0                    , 0                    , 0                    , 0                    , 0                    , 0                    ,cmath.sqrt(evals11[7]),0                     , 0]\n",
    "                    #                          ,[0                     , 0                    , 0                    , 0                    , 0                    , 0                    , 0                    , 0                    ,cmath.sqrt(evals11[8]), 0] \n",
    "                     #                         ,[0                     , 0                    , 0                    , 0                    , 0                    , 0                    , 0                    , 0                    ,0                     , cmath.sqrt(evals11[9])]]))\n",
    "                #roDiagonal = qt.Qobj(np.matrix([[evals11[0], 0        , 0                    , 0                    , 0                    , 0                    , 0                    , 0                    ,0                     , 0]\n",
    "                 #                             ,[0          ,evals11[1], 0        , 0        , 0        , 0        , 0        , 0        ,0         , 0]\n",
    "                  #                            ,[0          , 0        ,evals11[2], 0        , 0        , 0        , 0        , 0        ,0         , 0] \n",
    "                   #                           ,[0          , 0        , 0        ,evals11[3], 0        , 0        , 0        , 0        ,0         , 0]\n",
    "                    #                          ,[0          , 0        , 0        , 0        ,evals11[4], 0        , 0        , 0        ,0         , 0] \n",
    "                     #                         ,[0          , 0        , 0        , 0        , 0        ,evals11[5], 0        , 0        ,0         , 0] \n",
    "                      #                        ,[0          , 0        , 0        , 0        , 0        , 0        ,evals11[6], 0        ,0         , 0] \n",
    "                       #                       ,[0          , 0        , 0        , 0        , 0        , 0        , 0        ,evals11[7],0         , 0]\n",
    "                        #                      ,[0          , 0        , 0        , 0        , 0        , 0        , 0        , 0        ,evals11[8], 0] \n",
    "                         #                     ,[0          , 0        , 0        , 0        , 0        , 0        , 0        , 0        ,0         , evals11[9]]]))\n",
    "                #for i in range(0,6):\n",
    "                 #   for j in range(0,6):                     \n",
    "                  #      A = roDiagonalRaiz*SigmasBaseRho[i]*roDiagonalRaiz*SigmasBaseRho[i] \n",
    "                   #     B = roDiagonalRaiz*SigmasBaseRho[i]*roDiagonalRaiz*SigmasBaseRho[j] \n",
    "                    #    C = roDiagonalRaiz*SigmasBaseRho[j]*roDiagonalRaiz*SigmasBaseRho[i] \n",
    "                     #   D = roDiagonalRaiz*SigmasBaseRho[j]*roDiagonalRaiz*SigmasBaseRho[j]\n",
    "                      #  F = roDiagonal*SigmasBaseRho[i]*SigmasBaseRho[j]\n",
    "                       # H = roDiagonal*SigmasBaseRho[j]*SigmasBaseRho[i]\n",
    "                        #ABCD = A + B +C + D \n",
    "                        #FH = F + H\n",
    "                        #g.append( FH.tr() - ABCD.tr() )\n",
    "                #Matriz_W_A1 = qt.Qobj(np.matrix([[g[0]  , g[1]  , g[2]  , g[3]  , g[4]  , g[5]]\n",
    "                 #                               ,[g[6]  , g[7]  , g[8]  , g[9]  , g[10] , g[11]]\n",
    "                  #                              ,[g[12] , g[13] , g[14] , g[15] , g[16] , g[17]]\n",
    "                   #                             ,[g[18] , g[19] , g[20] , g[21] , g[22] , g[23]]\n",
    "                    #                            ,[g[24] , g[25] , g[26] , g[27] , g[28] , g[29]]\n",
    "                     #                           ,[g[30] , g[31] , g[32] , g[33] , g[34] , g[35]]]))\n",
    "                #evals1, ekets1 =Matriz_W_A1.eigenstates()\n",
    "                #Fisher.append(2 - np.amax(evals1))\n",
    "        #return Fisher"
   ]
  },
  {
   "cell_type": "code",
   "execution_count": 27,
   "metadata": {},
   "outputs": [],
   "source": [
    "def CalcularSkew_Up_Down(anglelist,ro,numGuardar1):\n",
    "        Fisher= []\n",
    "        for ii in range(0,len(anglelist)):\n",
    "                evals11, ekets11 =ro[ii][numGuardar1].eigenstates()\n",
    "                sigmaX_up_base_rho = (sigmaX_up.transform(ekets11))\n",
    "                sigmaY_up_base_rho = (sigmaY_up.transform(ekets11))\n",
    "                sigmaZ_up_base_rho = (sigmaZ_up.transform(ekets11))\n",
    "                sigmaX_down_base_rho = (sigmaX_down.transform(ekets11))\n",
    "                sigmaY_down_base_rho = (sigmaY_down.transform(ekets11))\n",
    "                sigmaZ_down_base_rho = (sigmaZ_down.transform(ekets11))\n",
    "                roDiagonal = (ro[ii][numGuardar1].transform(ekets11))\n",
    "                roDiagonalRaiz = qt.Qobj(np.sqrt(roDiagonal))\n",
    "                g = []\n",
    "                SigmasBaseRho = [sigmaX_up_base_rho, sigmaY_up_base_rho, sigmaZ_up_base_rho, sigmaX_down_base_rho, sigmaY_down_base_rho, sigmaZ_down_base_rho]\n",
    "                for i in range(0,6):\n",
    "                    for j in range(0,6):                     \n",
    "                        A = roDiagonalRaiz*(SigmasBaseRho[i]) \n",
    "                        B = roDiagonalRaiz*(SigmasBaseRho[j]) \n",
    "                        AB = A*B\n",
    "                        g.append( AB.tr() )\n",
    "                Matriz_W_A1 = qt.Qobj(np.matrix([[g[0]  , g[1]  , g[2]  , g[3]  , g[4]  , g[5]]\n",
    "                                                ,[g[6]  , g[7]  , g[8]  , g[9]  , g[10] , g[11]]\n",
    "                                                ,[g[12] , g[13] , g[14] , g[15] , g[16] , g[17]]\n",
    "                                                ,[g[18] , g[19] , g[20] , g[21] , g[22] , g[23]]\n",
    "                                                ,[g[24] , g[25] , g[26] , g[27] , g[28] , g[29]]\n",
    "                                                ,[g[30] , g[31] , g[32] , g[33] , g[34] , g[35]]]))\n",
    "                evals1, ekets1 =Matriz_W_A1.eigenstates()\n",
    "                Skew.append(1 - np.amax(evals1))\n",
    "        return Skew"
   ]
  },
  {
   "cell_type": "markdown",
   "metadata": {},
   "source": [
    "## Caso 1 : $H = H_{A}$"
   ]
  },
  {
   "cell_type": "markdown",
   "metadata": {},
   "source": [
    "\\begin{equation}\n",
    "   \\begin{aligned}\n",
    "    H_{A} = \\boldsymbol{n}_{\\uparrow} \\cdot \\boldsymbol{\\sigma}_{\\uparrow} \n",
    "    \\end{aligned}\n",
    "\\end{equation}"
   ]
  },
  {
   "cell_type": "code",
   "execution_count": 28,
   "metadata": {},
   "outputs": [],
   "source": [
    "Skew1_up = []; Skew2_up = []; Skew3_up = []; Skew4_up = []; Skew5_up = []; Skew6_up = []; Skew7_up = [];  Skew8_up = [];  Skew9_up = [];"
   ]
  },
  {
   "cell_type": "code",
   "execution_count": 29,
   "metadata": {},
   "outputs": [],
   "source": [
    "Skew_up = []"
   ]
  },
  {
   "cell_type": "code",
   "execution_count": 30,
   "metadata": {},
   "outputs": [],
   "source": [
    "#Skew_up= CalcularSkewDown(anglelist,ro3,999)\n",
    "#Sk_up = np.array(Skew_up)"
   ]
  },
  {
   "cell_type": "code",
   "execution_count": null,
   "metadata": {},
   "outputs": [],
   "source": []
  },
  {
   "cell_type": "code",
   "execution_count": 31,
   "metadata": {},
   "outputs": [],
   "source": [
    "Skew1_up= CalcularSkewDown(anglelist,ro3,499)\n",
    "Sk1_up = np.array(Skew1_up)"
   ]
  },
  {
   "cell_type": "code",
   "execution_count": 32,
   "metadata": {},
   "outputs": [],
   "source": [
    "Skew2_up= CalcularSkewDown(anglelist,ro3,399)\n",
    "Sk2_up = np.array(Skew2_up)"
   ]
  },
  {
   "cell_type": "code",
   "execution_count": 33,
   "metadata": {},
   "outputs": [],
   "source": [
    "Skew3_up= CalcularSkewDown(anglelist,ro3,249)\n",
    "Sk3_up = np.array(Skew3_up)"
   ]
  },
  {
   "cell_type": "code",
   "execution_count": 34,
   "metadata": {},
   "outputs": [],
   "source": [
    "Skew4_up= CalcularSkewDown(anglelist,ro3,209)\n",
    "Sk4_up = np.array(Skew4_up)"
   ]
  },
  {
   "cell_type": "code",
   "execution_count": 35,
   "metadata": {},
   "outputs": [],
   "source": [
    "Skew5_up= CalcularSkewDown(anglelist,ro3,179)\n",
    "Sk5_up = np.array(Skew5_up)"
   ]
  },
  {
   "cell_type": "code",
   "execution_count": 36,
   "metadata": {},
   "outputs": [],
   "source": [
    "Skew6_up= CalcularSkewDown(anglelist,ro3,175)\n",
    "Sk6_up = np.array(Skew6_up)"
   ]
  },
  {
   "cell_type": "code",
   "execution_count": 37,
   "metadata": {},
   "outputs": [],
   "source": [
    "Skew7_up= CalcularSkewDown(anglelist,ro3,174)\n",
    "Sk7_up = np.array(Skew7_up)"
   ]
  },
  {
   "cell_type": "code",
   "execution_count": 38,
   "metadata": {},
   "outputs": [],
   "source": [
    "Skew8_up= CalcularSkewDown(anglelist,ro3,99)\n",
    "Sk8_up = np.array(Skew8_up)"
   ]
  },
  {
   "cell_type": "code",
   "execution_count": 39,
   "metadata": {},
   "outputs": [],
   "source": [
    "Skew9_up= CalcularSkewDown(anglelist,ro3,0)\n",
    "Sk9_up = np.array(Skew9_up)"
   ]
  },
  {
   "cell_type": "code",
   "execution_count": 40,
   "metadata": {},
   "outputs": [
    {
     "data": {
      "image/png": "[encoded data removed]",
      "text/plain": [
       "<Figure size 1680x720 with 1 Axes>"
      ]
     },
     "metadata": {
      "needs_background": "light"
     },
     "output_type": "display_data"
    }
   ],
   "source": [
    "plt.figure(figsize = (14,6))\n",
    "plt.title(r'Informacion de Skew para el caso: $H_{A} = n_{\\uparrow} \\cdot \\sigma_{\\uparrow}$', fontsize = 16 )\n",
    "\n",
    "#plt.plot(anglelist,Sk_up.real, label= r't = $50 \\approx 568 \\mu s$', linewidth=1.5)\n",
    "#plt.plot(anglelist,Sk2_up.real, label= r't = $35 \\approx 398 \\mu s$' , linewidth=1.5)\n",
    "plt.plot(anglelist,Sk1_up.real, label= r't = $25 \\approx 284 \\mu s$' , linewidth=1.5)\n",
    "plt.plot(anglelist,Sk2_up.real, label= r't = $15 \\approx 170 \\mu s$' , linewidth=1.5)\n",
    "#plt.plot(anglelist,Sk3_up.real, label= r't = $12.5  \\approx 142  \\mu s$'   , linewidth=1.5)\n",
    "plt.plot(anglelist,Sk4_up.real, label= r't = $10.5  \\approx 119  \\mu s$'  , linewidth=1.5)\n",
    "#plt.plot(anglelist,Sk5_up.real, label= r't = $9  \\approx 102  \\mu s$'  , linewidth=1.5)\n",
    "plt.plot(anglelist,Sk6_up.real, label= r't = $8.8  \\approx 100  \\mu s$', linewidth=1.5)\n",
    "plt.plot(anglelist,Sk7_up.real, label= r't = $8.75  \\approx 99.5  \\mu s$'  , linewidth=1.5)\n",
    "#plt.plot(anglelist,Sk8_up.real, label= r't = $5  \\approx 56  \\mu s$'  , linewidth=1.5)\n",
    "plt.plot(anglelist,Sk9_up.real, label= r't = $1  \\approx 11  \\mu s$' , linewidth=1.5)\n",
    "\n",
    "\n",
    "plt.grid()\n",
    "plt.xlabel(r'Angulo ($\\theta$)', fontsize = 14)\n",
    "plt.ylabel('Skew_Up', fontsize = 14)\n",
    "plt.legend()\n",
    "\n",
    "plt.yticks(fontsize = 14)\n",
    "plt.xticks([np.pi/8, np.pi/4, 3*np.pi/8, np.pi/2],\n",
    "           [r'$\\pi/8$', r'$\\pi/4$', r'$3\\pi/8$', r'$\\pi/2$' ], fontsize = 14)\n",
    "\n",
    "plt.legend()\n",
    "\n",
    "        \n",
    "plt.tight_layout()\n",
    "\n",
    "\n",
    "plt.savefig('Traza_Base_ST_Nu_uni_aprox1_Skew_104_up.png', dpi=500)\n",
    "plt.show()"
   ]
  },
  {
   "cell_type": "code",
   "execution_count": null,
   "metadata": {},
   "outputs": [],
   "source": []
  },
  {
   "cell_type": "code",
   "execution_count": null,
   "metadata": {},
   "outputs": [],
   "source": []
  },
  {
   "cell_type": "markdown",
   "metadata": {},
   "source": [
    "## Caso 2 : $H = H_{B}$"
   ]
  },
  {
   "cell_type": "markdown",
   "metadata": {},
   "source": [
    "\\begin{equation}\n",
    "   \\begin{aligned}\n",
    "    H_{B} = \\boldsymbol{n}_{\\downarrow} \\cdot \\boldsymbol{\\sigma}_{\\downarrow} \n",
    "    \\end{aligned}\n",
    "\\end{equation}"
   ]
  },
  {
   "cell_type": "markdown",
   "metadata": {},
   "source": []
  },
  {
   "cell_type": "code",
   "execution_count": 41,
   "metadata": {},
   "outputs": [],
   "source": [
    "Skew1_down = []; Skew2_down = []; Skew3_down = []; Skew4_down = []; Skew5_down = []; Skew6_down = []; Skew7_down = []; Skew8_down = []; Skew9_down = [];"
   ]
  },
  {
   "cell_type": "code",
   "execution_count": 42,
   "metadata": {},
   "outputs": [],
   "source": [
    "Skew_down = [];"
   ]
  },
  {
   "cell_type": "code",
   "execution_count": 43,
   "metadata": {},
   "outputs": [],
   "source": [
    "#Skew_down = CalcularSkewDown(anglelist,ro3,999)\n",
    "#Sk_down = np.array(Skew_down)"
   ]
  },
  {
   "cell_type": "code",
   "execution_count": null,
   "metadata": {},
   "outputs": [],
   "source": []
  },
  {
   "cell_type": "code",
   "execution_count": 44,
   "metadata": {},
   "outputs": [],
   "source": [
    "Skew1_down = CalcularSkewDown(anglelist,ro3,499)\n",
    "Sk1_down = np.array(Skew1_down)"
   ]
  },
  {
   "cell_type": "code",
   "execution_count": 45,
   "metadata": {},
   "outputs": [],
   "source": [
    "Skew2_down = CalcularSkewDown(anglelist,ro3,399)\n",
    "Sk2_down = np.array(Skew2_down)"
   ]
  },
  {
   "cell_type": "code",
   "execution_count": 46,
   "metadata": {},
   "outputs": [],
   "source": [
    "Skew3_down = CalcularSkewDown(anglelist,ro3,249)\n",
    "Sk3_down = np.array(Skew3_down)"
   ]
  },
  {
   "cell_type": "code",
   "execution_count": 47,
   "metadata": {},
   "outputs": [],
   "source": [
    "Skew4_down = CalcularSkewDown(anglelist,ro3,209)\n",
    "Sk4_down = np.array(Skew4_down)"
   ]
  },
  {
   "cell_type": "code",
   "execution_count": 48,
   "metadata": {},
   "outputs": [],
   "source": [
    "Skew5_down = CalcularSkewDown(anglelist,ro3,179)\n",
    "Sk5_down = np.array(Skew5_down)"
   ]
  },
  {
   "cell_type": "code",
   "execution_count": 49,
   "metadata": {},
   "outputs": [],
   "source": [
    "Skew6_down = CalcularSkewDown(anglelist,ro3,175)\n",
    "Sk6_down = np.array(Skew6_down)"
   ]
  },
  {
   "cell_type": "code",
   "execution_count": 50,
   "metadata": {},
   "outputs": [],
   "source": [
    "Skew7_down = CalcularSkewDown(anglelist,ro3,174)\n",
    "Sk7_down = np.array(Skew7_down)"
   ]
  },
  {
   "cell_type": "code",
   "execution_count": 51,
   "metadata": {},
   "outputs": [],
   "source": [
    "Skew8_down = CalcularSkewDown(anglelist,ro3,99)\n",
    "Sk8_down = np.array(Skew8_down)"
   ]
  },
  {
   "cell_type": "code",
   "execution_count": 52,
   "metadata": {},
   "outputs": [],
   "source": [
    "Skew9_down = CalcularSkewDown(anglelist,ro3,0)\n",
    "Sk9_down = np.array(Skew9_down)"
   ]
  },
  {
   "cell_type": "code",
   "execution_count": 53,
   "metadata": {},
   "outputs": [
    {
     "data": {
      "image/png": "[encoded data removed]",
      "text/plain": [
       "<Figure size 1680x720 with 1 Axes>"
      ]
     },
     "metadata": {
      "needs_background": "light"
     },
     "output_type": "display_data"
    }
   ],
   "source": [
    "plt.figure(figsize = (14,6))\n",
    "plt.title(r'Informacion de Skew para el caso: $H_{B} = n_{\\downarrow} \\cdot  \\sigma_{\\downarrow}$', fontsize = 16 )\n",
    "#plt.plot(anglelist,Sk_down.real, label=r't = $50 \\approx 568 \\mu s$'  , linewidth=1.5)\n",
    "#plt.plot(anglelist,Sk2_down.real, label=r't = $35 \\approx 398 \\mu s$'  , linewidth=1.5)\n",
    "plt.plot(anglelist,Sk1_down.real, label=r't = $25 \\approx 284 \\mu s$'  , linewidth=1.5)\n",
    "plt.plot(anglelist,Sk2_down.real, label=r't = $15 \\approx 170 \\mu s$'  , linewidth=1.5)\n",
    "#plt.plot(anglelist,Sk3_down.real, label=r't = $12.5  \\approx 142  \\mu s$'   , linewidth=1.5)\n",
    "plt.plot(anglelist,Sk4_down.real, label=r't = $10.5  \\approx 119  \\mu s$'  , linewidth=1.5)\n",
    "#plt.plot(anglelist,Sk5_down.real, label=r't = $9  \\approx 102  \\mu s$'  , linewidth=1.5)\n",
    "plt.plot(anglelist,Sk6_down.real, label=r't = $8.8  \\approx 100  \\mu s$'  , linewidth=1.5)\n",
    "plt.plot(anglelist,Sk7_down.real, label=r't = $8.75  \\approx 99.5  \\mu s$'  , linewidth=1.5)\n",
    "#plt.plot(anglelist,Sk8_down.real, label=r't = $5  \\approx 56  \\mu s$' , linewidth=1.5)\n",
    "plt.plot(anglelist,Sk9_down.real, label=r't = $1  \\approx 11  \\mu s$'  , linewidth=1.5)\n",
    "\n",
    "\n",
    "plt.grid()\n",
    "plt.xlabel(r'Angulo ($\\theta$)', fontsize = 14)\n",
    "plt.ylabel('Skew_down', fontsize = 14)\n",
    "plt.legend()\n",
    "\n",
    "plt.yticks(fontsize = 14)\n",
    "plt.xticks([np.pi/8, np.pi/4, 3*np.pi/8, np.pi/2],\n",
    "           [r'$\\pi/8$', r'$\\pi/4$', r'$3\\pi/8$', r'$\\pi/2$' ], fontsize = 14)\n",
    "plt.tight_layout()\n",
    "\n",
    "plt.savefig('Traza_Base_ST_Nu_uni_aprox1_Skew_down.png', dpi=500)\n",
    "plt.show()"
   ]
  },
  {
   "cell_type": "code",
   "execution_count": null,
   "metadata": {},
   "outputs": [],
   "source": []
  },
  {
   "cell_type": "markdown",
   "metadata": {},
   "source": [
    "## Caso 3 : $H = H_{A} + H_{B}$"
   ]
  },
  {
   "cell_type": "markdown",
   "metadata": {},
   "source": [
    "\\begin{equation}\n",
    "   \\begin{aligned}\n",
    "    H_{A} + H_{B} =\\boldsymbol{n}_{\\uparrow} \\cdot \\boldsymbol{\\sigma}_{\\uparrow}  +  \\boldsymbol{n}_{\\downarrow} \\cdot \\boldsymbol{\\sigma}_{\\downarrow} \n",
    "    \\end{aligned}\n",
    "\\end{equation}"
   ]
  },
  {
   "cell_type": "markdown",
   "metadata": {},
   "source": []
  },
  {
   "cell_type": "code",
   "execution_count": null,
   "metadata": {},
   "outputs": [],
   "source": []
  },
  {
   "cell_type": "code",
   "execution_count": 54,
   "metadata": {},
   "outputs": [],
   "source": [
    "Skew1_up_down = []; Skew2_up_down = []; Skew3_up_down = []; Skew4_up_down = []; Skew5_up_down = []; Skew6_up_down = []; Skew7_up_down = []; Skew8_up_down = []; Skew9_up_down = [];"
   ]
  },
  {
   "cell_type": "code",
   "execution_count": null,
   "metadata": {},
   "outputs": [],
   "source": []
  },
  {
   "cell_type": "code",
   "execution_count": 55,
   "metadata": {},
   "outputs": [],
   "source": [
    "Skew10_up_down = [];"
   ]
  },
  {
   "cell_type": "code",
   "execution_count": 56,
   "metadata": {},
   "outputs": [],
   "source": [
    "Skew_up_down = [];"
   ]
  },
  {
   "cell_type": "code",
   "execution_count": 57,
   "metadata": {},
   "outputs": [],
   "source": [
    "#Skew_up_down  = CalcularSkewDown(anglelist,ro3,999)\n",
    "#Sk_up_down = np.array(Skew_up_down)"
   ]
  },
  {
   "cell_type": "code",
   "execution_count": 58,
   "metadata": {},
   "outputs": [],
   "source": [
    "#Skew2_up_down  = CalcularSkewDown(anglelist,ro3,699)\n",
    "#Sk2_up_down = np.array(Skew2_up_down)"
   ]
  },
  {
   "cell_type": "code",
   "execution_count": null,
   "metadata": {},
   "outputs": [],
   "source": []
  },
  {
   "cell_type": "code",
   "execution_count": 59,
   "metadata": {},
   "outputs": [],
   "source": [
    "Skew1_up_down  = CalcularSkewDown(anglelist,ro3,499)\n",
    "Sk1_up_down = np.array(Skew1_up_down)"
   ]
  },
  {
   "cell_type": "code",
   "execution_count": 60,
   "metadata": {},
   "outputs": [],
   "source": [
    "Skew2_up_down  = CalcularSkewDown(anglelist,ro3,399)\n",
    "Sk2_up_down = np.array(Skew2_up_down)"
   ]
  },
  {
   "cell_type": "code",
   "execution_count": 61,
   "metadata": {},
   "outputs": [],
   "source": [
    "Skew3_up_down  = CalcularSkewDown(anglelist,ro3,249)\n",
    "Sk3_up_down = np.array(Skew3_up_down)"
   ]
  },
  {
   "cell_type": "code",
   "execution_count": 62,
   "metadata": {},
   "outputs": [],
   "source": [
    "Skew4_up_down  = CalcularSkewDown(anglelist,ro3,209)\n",
    "Sk4_up_down = np.array(Skew4_up_down)"
   ]
  },
  {
   "cell_type": "code",
   "execution_count": 63,
   "metadata": {},
   "outputs": [],
   "source": [
    "Skew5_up_down  = CalcularSkewDown(anglelist,ro3,179)\n",
    "Sk5_up_down = np.array(Skew5_up_down)"
   ]
  },
  {
   "cell_type": "code",
   "execution_count": 64,
   "metadata": {},
   "outputs": [],
   "source": [
    "Skew6_up_down  = CalcularSkewDown(anglelist,ro3,175)\n",
    "Sk6_up_down = np.array(Skew6_up_down)"
   ]
  },
  {
   "cell_type": "code",
   "execution_count": 65,
   "metadata": {},
   "outputs": [],
   "source": [
    "Skew7_up_down  = CalcularSkewDown(anglelist,ro3,174)\n",
    "Sk7_up_down = np.array(Skew7_up_down)"
   ]
  },
  {
   "cell_type": "code",
   "execution_count": 66,
   "metadata": {},
   "outputs": [],
   "source": [
    "Skew8_up_down  = CalcularSkewDown(anglelist,ro3,99)\n",
    "Sk8_up_down = np.array(Skew8_up_down)"
   ]
  },
  {
   "cell_type": "code",
   "execution_count": 67,
   "metadata": {},
   "outputs": [],
   "source": [
    "Skew9_up_down  = CalcularSkewDown(anglelist,ro3,0)\n",
    "Sk9_up_down = np.array(Skew9_up_down)"
   ]
  },
  {
   "cell_type": "code",
   "execution_count": 68,
   "metadata": {},
   "outputs": [
    {
     "data": {
      "image/png": "[encoded data removed]",
      "text/plain": [
       "<Figure size 1680x780 with 1 Axes>"
      ]
     },
     "metadata": {
      "needs_background": "light"
     },
     "output_type": "display_data"
    }
   ],
   "source": [
    "plt.figure(figsize = (14,6.5))\n",
    "plt.title(r'Informacion de Skew para el caso: $H_{A} + H_{B} =n_{\\uparrow} \\cdot \\sigma_{\\uparrow}  +  n_{\\downarrow} \\cdot \\sigma_{\\downarrow} $', fontsize = 16 )\n",
    "#plt.plot(anglelist,Sk_up_down.real, label=r't = $50 \\approx 568 \\mu s$' , linewidth=1.5)\n",
    "plt.plot(anglelist,Sk1_up_down.real, label=r't = $25 \\approx 284 \\mu s$' , linewidth=1.5)\n",
    "plt.plot(anglelist,Sk2_up_down.real, label=r't = $15 \\approx 170 \\mu s$' , linewidth=1.5)\n",
    "#plt.plot(anglelist,Sk3_up_down.real, label=r't = $12.5  \\approx 142  \\mu s$' , linewidth=1.5)\n",
    "plt.plot(anglelist,Sk4_up_down.real, label=r't = $10.5  \\approx 119  \\mu s$' , linewidth=1.5)\n",
    "#plt.plot(anglelist,Sk5_up_down.real, label=r't = $9  \\approx 102  \\mu s$' , linewidth=1.5)\n",
    "plt.plot(anglelist,Sk6_up_down.real, label=r't = $8.8  \\approx 100  \\mu s$' , linewidth=1.5)\n",
    "plt.plot(anglelist,Sk7_up_down.real, label=r't = $8.75  \\approx 99.5  \\mu s$' , linewidth=1.5)\n",
    "#plt.plot(anglelist,Sk8_up_down.real, label=r't = $5  \\approx 56  \\mu s$' , linewidth=1.5)\n",
    "plt.plot(anglelist,Sk9_up_down.real, label=r't = $1  \\approx 11  \\mu s$' , linewidth=1.5)\n",
    "\n",
    "\n",
    "plt.grid()\n",
    "plt.xlabel(r'Angulo ($\\theta$)', fontsize = 14)\n",
    "plt.ylabel('Skew_Up_Down', fontsize = 14)\n",
    "plt.legend()\n",
    "\n",
    "\n",
    "plt.yticks(fontsize = 14)\n",
    "plt.xticks([np.pi/8, np.pi/4, 3*np.pi/8, np.pi/2],\n",
    "           [r'$\\pi/8$', r'$\\pi/4$', r'$3\\pi/8$', r'$\\pi/2$' ], fontsize = 14)\n",
    "plt.tight_layout()\n",
    "\n",
    "plt.savefig('Traza_Base_ST_Nu_uni_aprox1_Skew_up_down.png', dpi=500)\n",
    "plt.show()\n"
   ]
  },
  {
   "cell_type": "code",
   "execution_count": null,
   "metadata": {},
   "outputs": [],
   "source": []
  },
  {
   "cell_type": "code",
   "execution_count": null,
   "metadata": {},
   "outputs": [],
   "source": []
  },
  {
   "cell_type": "code",
   "execution_count": 69,
   "metadata": {},
   "outputs": [
    {
     "data": {
      "text/plain": [
       "204.39374351501465"
      ]
     },
     "execution_count": 69,
     "metadata": {},
     "output_type": "execute_result"
    }
   ],
   "source": [
    "time.time() - start_time"
   ]
  }
 ],
 "metadata": {
  "kernelspec": {
   "display_name": "Python 3",
   "language": "python",
   "name": "python3"
  },
  "language_info": {
   "codemirror_mode": {
    "name": "ipython",
    "version": 3
   },
   "file_extension": ".py",
   "mimetype": "text/x-python",
   "name": "python",
   "nbconvert_exporter": "python",
   "pygments_lexer": "ipython3",
   "version": "3.7.9"
  }
 },
 "nbformat": 4,
 "nbformat_minor": 4
}
